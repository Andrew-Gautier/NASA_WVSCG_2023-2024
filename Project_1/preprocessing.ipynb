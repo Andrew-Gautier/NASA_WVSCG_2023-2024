{
 "cells": [
  {
   "cell_type": "markdown",
   "metadata": {},
   "source": [
    "This can be used to initalize the database for many of the different experiments below. "
   ]
  },
  {
   "cell_type": "code",
   "execution_count": 11,
   "metadata": {},
   "outputs": [],
   "source": [
    "from Juliet_DB_loader import TestCase, Folder, SubFolder, sessionmaker, engine\n",
    "from sqlalchemy import func\n",
    "from sqlalchemy.orm import sessionmaker \n",
    "import re\n",
    "\n",
    "Session = sessionmaker(bind=engine)\n",
    "session = Session()\n"
   ]
  },
  {
   "cell_type": "markdown",
   "metadata": {},
   "source": [
    "The below code can be used to verify a specific test cases's content and line number before any modifications are made\n"
   ]
  },
  {
   "cell_type": "code",
   "execution_count": null,
   "metadata": {},
   "outputs": [],
   "source": [
    "test_cases = session.query(TestCase).filter_by(id=47105).first()\n",
    "line_content = dict()\n",
    "lines = test_cases.file_content.split('\\n')\n",
    "multiline_comment = False\n",
    "for line_num, line in enumerate(lines, start=1):\n",
    "    line_content[line_num] = line\n",
    "\n",
    "# Print the dictionary vertically\n",
    "for line_num, line in line_content.items():\n",
    "    print(f\"{line_num}: {line}\")"
   ]
  },
  {
   "cell_type": "markdown",
   "metadata": {},
   "source": [
    "This block can be used to check the vulnerable line of a specific test file. "
   ]
  },
  {
   "cell_type": "code",
   "execution_count": 34,
   "metadata": {},
   "outputs": [
    {
     "name": "stdout",
     "output_type": "stream",
     "text": [
      "Vulnerable line: 43\n",
      "Total lines in file: 133\n",
      "43:         strcpy(data, source);\n"
     ]
    }
   ],
   "source": [
    "test_case = session.query(TestCase).filter_by(id=10000).first()\n",
    "line_content = dict()\n",
    "lines = test_case.file_content.split('\\n')\n",
    "vulnerable_line = int(test_case.vulnerability_location)\n",
    "\n",
    "print(f\"Vulnerable line: {vulnerable_line}\")\n",
    "print(f\"Total lines in file: {len(lines)}\")\n",
    "\n",
    "for line_num, line in enumerate(lines, start=1):\n",
    "    line_content[line_num] = line    \n",
    "\n",
    "# Check if vulnerable_line is a valid key in line_content\n",
    "if vulnerable_line in line_content:\n",
    "    print(f\"{vulnerable_line}: {line_content[vulnerable_line]}\")\n",
    "else:\n",
    "    print(f\"Vulnerable line {vulnerable_line} is not in the file content.\")"
   ]
  },
  {
   "cell_type": "markdown",
   "metadata": {},
   "source": [
    "2-6-24 \n",
    "\n",
    "\n",
    "This block's goal is to get a batch of files and put them into a new folder for experimenting my comment_cleaner.\n",
    "\n",
    "2-7 \n",
    "I have sucessfully done this, and I am going to take a batch of programs from each langauge to make my first attempt at a corpus for tokenization. \n",
    "\n",
    "Corpus Version 1.0\n",
    "Important Notes: I am using the suboptimal comment stripper so there are a fair amount of comments still in this corpus. \n"
   ]
  },
  {
   "cell_type": "code",
   "execution_count": 18,
   "metadata": {},
   "outputs": [],
   "source": [
    "from Juliet_DB_loader import TestCase, Folder, SubFolder, sessionmaker, engine\n",
    "from sqlalchemy import and_, func\n",
    "from sqlalchemy.orm import relationship, sessionmaker\n",
    "from sqlalchemy.exc import SQLAlchemyError\n",
    "from comment_cleaner import strip\n",
    "from comment_cleaner import remove_empty_lines\n",
    "import random\n",
    "Session = sessionmaker(bind=engine)\n",
    "session = Session()\n",
    "\n",
    "# To DO get a selection of 10 of test cases of each language\n",
    "# Run them through the comment cleaner\n",
    "# Manually check the results\n",
    "\n",
    "# Function to get 10 random test cases for a given file extension\n",
    "def get_test_cases(session, file_extension, num_cases):\n",
    "    query = session.query(TestCase)\n",
    "\n",
    "    test_cases = query.filter(TestCase.file_extension == file_extension).limit(num_cases).all()\n",
    "\n",
    "    # Return the list of test cases and the corresponding IDs as a manifest\n",
    "    test_case_ids = [test_case.id for test_case in test_cases]\n",
    "    return test_cases, test_case_ids\n",
    "\n",
    "\n",
    "c_test_cases, c_ids = get_test_cases(session, '.c', 3000)\n",
    "cpp_test_cases, cpp_ids = get_test_cases(session, '.cpp', 3000)\n",
    "java_test_cases, java_ids = get_test_cases(session, '.java', 3000)\n",
    "\n",
    "all_cases = c_test_cases + cpp_test_cases + java_test_cases\n",
    "manifest = c_ids + cpp_ids + java_ids\n",
    "corpus_file_path = 'corpus_1.0.txt'\n",
    "manifest_file_path = 'manifest_1.0.txt'\n",
    "\n",
    "with open(manifest_file_path, 'w', encoding='utf-8') as manifest_file:\n",
    "    # Write each original test case ID to the manifest file\n",
    "    for case_id in manifest:\n",
    "        manifest_file.write(f\"{case_id}\\n\")\n",
    "\n",
    "for case in all_cases:\n",
    "    lines = case.file_content.split('\\n')\n",
    "    stripped_lines, _, _ = strip(lines)\n",
    "    stripped_lines = remove_empty_lines(stripped_lines)\n",
    "    case.file_content = '\\n'.join(stripped_lines)\n",
    "    #print(f\"Test Case {case.id}:\")\n",
    "    #for line_number, line_content in enumerate(stripped_lines, start=1):    \n",
    "    #     print(f\" {line_content}\")\n",
    "    # print(\"-\" * 50)\n",
    "    with open(corpus_file_path, 'a', encoding='utf-8') as corpus_file:\n",
    "        corpus_file.write('\\n'.join(stripped_lines) + '\\n')\n"
   ]
  }
 ],
 "metadata": {
  "kernelspec": {
   "display_name": ".venv",
   "language": "python",
   "name": "python3"
  },
  "language_info": {
   "codemirror_mode": {
    "name": "ipython",
    "version": 3
   },
   "file_extension": ".py",
   "mimetype": "text/x-python",
   "name": "python",
   "nbconvert_exporter": "python",
   "pygments_lexer": "ipython3",
   "version": "3.11.2"
  }
 },
 "nbformat": 4,
 "nbformat_minor": 2
}
