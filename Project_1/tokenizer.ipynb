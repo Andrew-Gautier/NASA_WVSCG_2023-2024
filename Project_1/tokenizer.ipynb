{
 "cells": [
  {
   "cell_type": "markdown",
   "metadata": {},
   "source": [
    "2-7-24\n",
    "\n",
    "This is the record of attempts to take the first corpus, 1.0. and train a model on the embeddings created from it.\n",
    "\n"
   ]
  },
  {
   "cell_type": "code",
   "execution_count": 3,
   "metadata": {},
   "outputs": [
    {
     "name": "stdout",
     "output_type": "stream",
     "text": [
      "Training tokenizer:\n",
      "Training complete.\n"
     ]
    },
    {
     "name": "stderr",
     "output_type": "stream",
     "text": [
      "Testing Tokenizer: 100%|██████████| 6/6 [00:00<00:00, 6001.87it/s]"
     ]
    },
    {
     "name": "stdout",
     "output_type": "stream",
     "text": [
      "Tokenization Accuracy: 100.00%\n"
     ]
    },
    {
     "name": "stderr",
     "output_type": "stream",
     "text": [
      "\n"
     ]
    }
   ],
   "source": [
    "import sentencepiece as spm\n",
    "from tqdm import tqdm\n",
    "\n",
    "input_file = \"corpus_1.0.txt\"\n",
    "output_model_prefix = \"m\"\n",
    "vocab_size = 10000\n",
    "model_type = \"bpe\"\n",
    "\n",
    "\n",
    "def train_tokenizer(input_file, output_model_prefix, vocab_size, model_type):\n",
    "    tqdm.write(\"Training tokenizer:\")\n",
    "    spm.SentencePieceTrainer.train(\n",
    "        input=input_file,\n",
    "        model_prefix=output_model_prefix,\n",
    "        vocab_size=vocab_size,\n",
    "        model_type=model_type,\n",
    "        num_threads=4,  # Set the number of threads for parallel processing during training\n",
    "        # Other training parameters as needed\n",
    "    )\n",
    "    tqdm.write(\"Training complete.\")\n",
    "\n",
    "\n",
    "# Load the trained model\n",
    "sp = spm.SentencePieceProcessor()\n",
    "sp.Load(f\"{output_model_prefix}.model\")\n",
    "\n",
    "# Test the trained tokenizer\n",
    "def test_tokenizer(tokenizer, test_lines):\n",
    "    correct_tokenizations = 0\n",
    "    total_tokenizations = 0\n",
    "\n",
    "    for line in tqdm(test_lines, desc=\"Testing Tokenizer\"):\n",
    "        # Assuming test_lines is a list of source code lines\n",
    "        original_line = line.strip()\n",
    "        \n",
    "        # Tokenize the line using the trained tokenizer\n",
    "        tokenized_line = tokenizer.encode(original_line)\n",
    "\n",
    "        # Decode the tokenized line back to text\n",
    "        decoded_line = tokenizer.decode(tokenized_line)\n",
    "\n",
    "        # Check if the decoded line matches the original line\n",
    "        if decoded_line.strip() == original_line:\n",
    "            correct_tokenizations += 1\n",
    "\n",
    "        total_tokenizations += 1\n",
    "\n",
    "    accuracy = correct_tokenizations / total_tokenizations\n",
    "    print(f\"Tokenization Accuracy: {accuracy * 100:.2f}%\")\n",
    "\n",
    "# Example usage\n",
    "test_lines = [\n",
    "    \"def example_function():\",\n",
    "    \"    print('Hello, World!')\",\n",
    "    \"# This is a comment line\",\n",
    "    \"x = 42\",\n",
    "    \"if x > 0:\",\n",
    "    \"    print('Positive')\"\n",
    "]\n",
    "\n",
    "# Train the tokenizer with progress bar\n",
    "train_tokenizer(input_file, output_model_prefix, vocab_size, model_type)\n",
    "\n",
    "# Test the tokenizer\n",
    "test_tokenizer(sp, test_lines)\n"
   ]
  },
  {
   "cell_type": "code",
   "execution_count": null,
   "metadata": {},
   "outputs": [],
   "source": []
  },
  {
   "cell_type": "markdown",
   "metadata": {},
   "source": []
  }
 ],
 "metadata": {
  "kernelspec": {
   "display_name": ".venv",
   "language": "python",
   "name": "python3"
  },
  "language_info": {
   "codemirror_mode": {
    "name": "ipython",
    "version": 3
   },
   "file_extension": ".py",
   "mimetype": "text/x-python",
   "name": "python",
   "nbconvert_exporter": "python",
   "pygments_lexer": "ipython3",
   "version": "3.11.2"
  }
 },
 "nbformat": 4,
 "nbformat_minor": 2
}
