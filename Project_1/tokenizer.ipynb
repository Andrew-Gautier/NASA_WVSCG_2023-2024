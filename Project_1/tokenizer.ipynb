{
 "cells": [
  {
   "cell_type": "markdown",
   "metadata": {},
   "source": [
    "2-7-24\n",
    "\n",
    "This is the record of attempts to take the first corpus, 1.0. and train a model on the embeddings created from it.\n",
    "\n"
   ]
  },
  {
   "cell_type": "code",
   "execution_count": 1,
   "metadata": {},
   "outputs": [
    {
     "name": "stdout",
     "output_type": "stream",
     "text": [
      "Training tokenizer:\n",
      "Training complete.\n"
     ]
    },
    {
     "name": "stderr",
     "output_type": "stream",
     "text": [
      "Testing Tokenizer:   0%|          | 0/6 [00:00<?, ?it/s]\n"
     ]
    },
    {
     "ename": "TypeError",
     "evalue": "SentencePieceProcessor.Encode() got an unexpected keyword argument 't'",
     "output_type": "error",
     "traceback": [
      "\u001b[1;31m---------------------------------------------------------------------------\u001b[0m",
      "\u001b[1;31mTypeError\u001b[0m                                 Traceback (most recent call last)",
      "Cell \u001b[1;32mIn[1], line 65\u001b[0m\n\u001b[0;32m     62\u001b[0m train_tokenizer(input_file, output_model_prefix, vocab_size, model_type)\n\u001b[0;32m     64\u001b[0m \u001b[38;5;66;03m# Test the tokenizer\u001b[39;00m\n\u001b[1;32m---> 65\u001b[0m \u001b[43mtest_tokenizer\u001b[49m\u001b[43m(\u001b[49m\u001b[43msp\u001b[49m\u001b[43m,\u001b[49m\u001b[43m \u001b[49m\u001b[43mtest_lines\u001b[49m\u001b[43m)\u001b[49m\n",
      "Cell \u001b[1;32mIn[1], line 37\u001b[0m, in \u001b[0;36mtest_tokenizer\u001b[1;34m(tokenizer, test_lines)\u001b[0m\n\u001b[0;32m     34\u001b[0m original_line \u001b[38;5;241m=\u001b[39m line\u001b[38;5;241m.\u001b[39mstrip()\n\u001b[0;32m     36\u001b[0m \u001b[38;5;66;03m# Tokenize the line using the trained tokenizer\u001b[39;00m\n\u001b[1;32m---> 37\u001b[0m tokenized_line \u001b[38;5;241m=\u001b[39m \u001b[43mtokenizer\u001b[49m\u001b[38;5;241;43m.\u001b[39;49m\u001b[43mencode\u001b[49m\u001b[43m(\u001b[49m\u001b[43moriginal_line\u001b[49m\u001b[43m,\u001b[49m\u001b[43m \u001b[49m\u001b[43mt\u001b[49m\u001b[38;5;241;43m=\u001b[39;49m\u001b[38;5;28;43mint\u001b[39;49m\u001b[43m)\u001b[49m\n\u001b[0;32m     39\u001b[0m \u001b[38;5;66;03m# Decode the tokenized line back to text\u001b[39;00m\n\u001b[0;32m     40\u001b[0m decoded_line \u001b[38;5;241m=\u001b[39m tokenizer\u001b[38;5;241m.\u001b[39mdecode(tokenized_line)\n",
      "\u001b[1;31mTypeError\u001b[0m: SentencePieceProcessor.Encode() got an unexpected keyword argument 't'"
     ]
    }
   ],
   "source": [
    "import sentencepiece as spm\n",
    "from tqdm import tqdm\n",
    "\n",
    "input_file = \"corpus_1.0.txt\"\n",
    "output_model_prefix = \"m\"\n",
    "vocab_size = 10000\n",
    "model_type = \"bpe\"\n",
    "\n",
    "\n",
    "def train_tokenizer(input_file, output_model_prefix, vocab_size, model_type):\n",
    "    tqdm.write(\"Training tokenizer:\")\n",
    "    spm.SentencePieceTrainer.train(\n",
    "        input=input_file,\n",
    "        model_prefix=output_model_prefix,\n",
    "        vocab_size=vocab_size,\n",
    "        model_type=model_type,\n",
    "        num_threads=4,  # Set the number of threads for parallel processing during training\n",
    "        # Other training parameters as needed\n",
    "    )\n",
    "    tqdm.write(\"Training complete.\")\n",
    "\n",
    "\n",
    "# Load the trained model\n",
    "sp = spm.SentencePieceProcessor()\n",
    "sp.Load(f\"{output_model_prefix}.model\")\n",
    "\n",
    "# Test the trained tokenizer\n",
    "def test_tokenizer(tokenizer, test_lines):\n",
    "    correct_tokenizations = 0\n",
    "    total_tokenizations = 0\n",
    "\n",
    "    for line in tqdm(test_lines, desc=\"Testing Tokenizer\"):\n",
    "        # Assuming test_lines is a list of source code lines\n",
    "        original_line = line.strip()\n",
    "        \n",
    "        # Tokenize the line using the trained tokenizer\n",
    "        tokenized_line = tokenizer.encode(original_line)\n",
    "\n",
    "        # Decode the tokenized line back to text\n",
    "        decoded_line = tokenizer.decode(tokenized_line)\n",
    "\n",
    "        # Check if the decoded line matches the original line\n",
    "        if decoded_line.strip() == original_line:\n",
    "            correct_tokenizations += 1\n",
    "\n",
    "        total_tokenizations += 1\n",
    "\n",
    "    accuracy = correct_tokenizations / total_tokenizations\n",
    "    print(f\"Tokenization Accuracy: {accuracy * 100:.2f}%\")\n",
    "\n",
    "# Example usage\n",
    "test_lines = [\n",
    "    \"def example_function():\",\n",
    "    \"    print('Hello, World!')\",\n",
    "    \"# This is a comment line\",\n",
    "    \"x = 42\",\n",
    "    \"if x > 0:\",\n",
    "    \"    print('Positive')\"\n",
    "]\n",
    "\n",
    "# Train the tokenizer with progress bar\n",
    "train_tokenizer(input_file, output_model_prefix, vocab_size, model_type)\n",
    "\n",
    "# Test the tokenizer\n",
    "test_tokenizer(sp, test_lines)\n"
   ]
  },
  {
   "cell_type": "markdown",
   "metadata": {},
   "source": []
  }
 ],
 "metadata": {
  "kernelspec": {
   "display_name": ".venv",
   "language": "python",
   "name": "python3"
  },
  "language_info": {
   "codemirror_mode": {
    "name": "ipython",
    "version": 3
   },
   "file_extension": ".py",
   "mimetype": "text/x-python",
   "name": "python",
   "nbconvert_exporter": "python",
   "pygments_lexer": "ipython3",
   "version": "3.11.2"
  }
 },
 "nbformat": 4,
 "nbformat_minor": 2
}
