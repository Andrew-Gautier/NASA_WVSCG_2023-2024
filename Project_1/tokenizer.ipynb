{
 "cells": [
  {
   "cell_type": "markdown",
   "metadata": {},
   "source": [
    "2-7-24\n",
    "\n",
    "This is the record of attempts to take the first corpus, 1.0. and train a model on the embeddings created from it.\n",
    "\n"
   ]
  },
  {
   "cell_type": "code",
   "execution_count": 7,
   "metadata": {},
   "outputs": [
    {
     "name": "stdout",
     "output_type": "stream",
     "text": [
      "Training tokenizer:\n",
      "Training complete.\n",
      "Starting tokenizer test:\n",
      "Total lines: 3093510\n",
      "Tokenization Accuracy: 48.76%\n",
      "Tokenizer test complete.\n"
     ]
    }
   ],
   "source": [
    "import sentencepiece as spm\n",
    "from tqdm import tqdm\n",
    "\n",
    "input_file = \"corpus_1.0.txt\"\n",
    "output_model_prefix = \"m\"\n",
    "vocab_size = 10000\n",
    "model_type = \"bpe\"\n",
    "\n",
    "\n",
    "def train_tokenizer(input_file, output_model_prefix, vocab_size, model_type):\n",
    "    tqdm.write(\"Training tokenizer:\")\n",
    "    spm.SentencePieceTrainer.train(\n",
    "        input=input_file,\n",
    "        model_prefix=output_model_prefix,\n",
    "        vocab_size=vocab_size,\n",
    "        model_type=model_type,\n",
    "        num_threads=4,  # Set the number of threads for parallel processing during training\n",
    "        # Other training parameters as needed\n",
    "    )\n",
    "    tqdm.write(\"Training complete.\")\n",
    "\n",
    "\n",
    "# Load the trained model\n",
    "sp = spm.SentencePieceProcessor()\n",
    "sp.Load(f\"{output_model_prefix}.model\")\n",
    "\n",
    "# Test the trained tokenizer\n",
    "def test_tokenizer(tokenizer, test_lines):\n",
    "    correct_tokenizations = 0\n",
    "    total_tokenizations = len(test_lines)\n",
    "\n",
    "    for line in test_lines:\n",
    "        # Assuming test_lines is a list of source code lines\n",
    "        original_line = line.strip()\n",
    "        \n",
    "        # Tokenize the line using the trained tokenizer\n",
    "        tokenized_line = tokenizer.encode(original_line)\n",
    "\n",
    "        # Decode the tokenized line back to text\n",
    "        decoded_line = tokenizer.decode(tokenized_line)\n",
    "\n",
    "        # Check if the decoded line matches the original line\n",
    "        if decoded_line.strip() == original_line:\n",
    "            correct_tokenizations += 1\n",
    "\n",
    "        total_tokenizations += 1\n",
    "\n",
    "    accuracy = correct_tokenizations / total_tokenizations\n",
    "    print(f\"Total lines: {total_tokenizations}\")\n",
    "    print(f\"Tokenization Accuracy: {accuracy * 100:.2f}%\")\n",
    "\n",
    "# Example usage\n",
    "\n",
    "\n",
    "# Train the tokenizer with progress bar\n",
    "train_tokenizer(input_file, output_model_prefix, vocab_size, model_type)\n",
    "\n",
    "test_file = \"tok_test1.txt\"\n",
    "\n",
    "with open(test_file, 'r', encoding='utf-8') as file:\n",
    "    test_lines = file.readlines()\n",
    "\n",
    "# Test the tokenizer\n",
    "tqdm.write(\"Starting tokenizer test:\")\n",
    "test_tokenizer(sp, test_lines)\n",
    "tqdm.write(\"Tokenizer test complete.\")\n"
   ]
  },
  {
   "cell_type": "markdown",
   "metadata": {},
   "source": [
    "## 2-26 Tokenizer Tasks\n",
    "### Ways to improve accuracy\n",
    "Handling common tokens, spaces, newlines, etc\n",
    "Waiting to see if this also improves with the clean data. \n"
   ]
  },
  {
   "cell_type": "code",
   "execution_count": null,
   "metadata": {},
   "outputs": [],
   "source": []
  },
  {
   "cell_type": "markdown",
   "metadata": {},
   "source": []
  }
 ],
 "metadata": {
  "kernelspec": {
   "display_name": ".venv",
   "language": "python",
   "name": "python3"
  },
  "language_info": {
   "codemirror_mode": {
    "name": "ipython",
    "version": 3
   },
   "file_extension": ".py",
   "mimetype": "text/x-python",
   "name": "python",
   "nbconvert_exporter": "python",
   "pygments_lexer": "ipython3",
   "version": "3.11.2"
  }
 },
 "nbformat": 4,
 "nbformat_minor": 2
}
